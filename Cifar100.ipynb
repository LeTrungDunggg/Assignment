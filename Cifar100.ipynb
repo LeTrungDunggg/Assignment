{
  "nbformat": 4,
  "nbformat_minor": 0,
  "metadata": {
    "colab": {
      "name": "Cifar100.ipynb",
      "provenance": [],
      "authorship_tag": "ABX9TyNu8ZPL3+jRztmFnWf/glTI",
      "include_colab_link": true
    },
    "kernelspec": {
      "name": "python3",
      "display_name": "Python 3"
    },
    "language_info": {
      "name": "python"
    }
  },
  "cells": [
    {
      "cell_type": "markdown",
      "metadata": {
        "id": "view-in-github",
        "colab_type": "text"
      },
      "source": [
        "<a href=\"https://colab.research.google.com/github/LeTrungDunggg/Assignment/blob/main/Cifar100.ipynb\" target=\"_parent\"><img src=\"https://colab.research.google.com/assets/colab-badge.svg\" alt=\"Open In Colab\"/></a>"
      ]
    },
    {
      "cell_type": "code",
      "execution_count": null,
      "metadata": {
        "id": "EBzJ8UoMxMx-"
      },
      "outputs": [],
      "source": [
        "#import thư viện\n",
        "import numpy as np #thư viện xử lý ma trận\n",
        "from keras.utils import np_utils # thư viện xử lý chuyển class\n",
        "from keras.datasets import cifar100 # gọi tập dataset động vật, máy bay \n",
        "from keras.callbacks import EarlyStopping\n",
        "from keras.models import Sequential # hàm chạy mô hình\n",
        "from keras.layers import Dense, Dropout # tạo mạng nơ ron\n",
        "from tensorflow.keras.optimizers import RMSprop \n",
        "import matplotlib.pyplot as plt  # thư viện dùng để vẽ\n",
        "from keras.backend import dropout"
      ]
    },
    {
      "cell_type": "code",
      "source": [
        "from keras.datasets import cifar100\n",
        "import matplotlib.pyplot as plt \n",
        "(x_train, y_train),(x_test,y_test) = cifar100.load_data()"
      ],
      "metadata": {
        "colab": {
          "base_uri": "https://localhost:8080/"
        },
        "id": "mFOvBZwoxzeT",
        "outputId": "0d62f5cd-3f05-4d1d-d501-af242a44afa5"
      },
      "execution_count": null,
      "outputs": [
        {
          "output_type": "stream",
          "name": "stdout",
          "text": [
            "Downloading data from https://www.cs.toronto.edu/~kriz/cifar-100-python.tar.gz\n",
            "169009152/169001437 [==============================] - 2s 0us/step\n",
            "169017344/169001437 [==============================] - 2s 0us/step\n"
          ]
        }
      ]
    },
    {
      "cell_type": "code",
      "source": [
        "x_train = x_train.reshape(50000,3072)\n",
        "x_test = x_test.reshape(10000,3072)\n",
        "# ép kiểu\n",
        "x_train = x_train.astype('float32')\n",
        "x_test = x_test.astype('float32')\n",
        "#chuẩn hóa dữ liệu\n",
        "x_train /=255\n",
        "x_test /=255\n",
        "#chuyển y từ 1 class thành 10 class\n",
        "y_train = np_utils.to_categorical(y_train,100)\n",
        "y_test = np_utils.to_categorical(y_test,100)"
      ],
      "metadata": {
        "id": "mCOsI9s7yERN"
      },
      "execution_count": null,
      "outputs": []
    },
    {
      "cell_type": "code",
      "source": [
        "model=Sequential()\n",
        "model.add(Dense(512,activation='relu',input_shape=(3072,)))\n",
        "model.add(Dropout(0.1))\n",
        "model.add(Dense(512,activation='relu'))\n",
        "model.add(Dropout(0.1))\n",
        "model.add(Dense(100,activation='softmax'))\n",
        "model.summary()"
      ],
      "metadata": {
        "colab": {
          "base_uri": "https://localhost:8080/"
        },
        "id": "rV0Zb4g6yKiZ",
        "outputId": "0a10f88b-fed6-4bb4-d143-521af92aba4a"
      },
      "execution_count": null,
      "outputs": [
        {
          "output_type": "stream",
          "name": "stdout",
          "text": [
            "Model: \"sequential\"\n",
            "_________________________________________________________________\n",
            " Layer (type)                Output Shape              Param #   \n",
            "=================================================================\n",
            " dense (Dense)               (None, 512)               1573376   \n",
            "                                                                 \n",
            " dropout (Dropout)           (None, 512)               0         \n",
            "                                                                 \n",
            " dense_1 (Dense)             (None, 512)               262656    \n",
            "                                                                 \n",
            " dropout_1 (Dropout)         (None, 512)               0         \n",
            "                                                                 \n",
            " dense_2 (Dense)             (None, 100)               51300     \n",
            "                                                                 \n",
            "=================================================================\n",
            "Total params: 1,887,332\n",
            "Trainable params: 1,887,332\n",
            "Non-trainable params: 0\n",
            "_________________________________________________________________\n"
          ]
        }
      ]
    },
    {
      "cell_type": "code",
      "source": [
        "model.compile(loss='categorical_crossentropy',optimizer=RMSprop(),metrics=['accuracy'])"
      ],
      "metadata": {
        "id": "jZrKEKYTyVq9"
      },
      "execution_count": null,
      "outputs": []
    },
    {
      "cell_type": "code",
      "source": [
        "history=model.fit(x_train,y_train,batch_size=128,epochs=500,verbose=1,validation_split=0.2,callbacks=[EarlyStopping(monitor='val_loss',patience=100)])"
      ],
      "metadata": {
        "colab": {
          "base_uri": "https://localhost:8080/"
        },
        "id": "_squSZ_JyY1R",
        "outputId": "e1653a92-c8c2-4340-cd5a-73cab2407192"
      },
      "execution_count": null,
      "outputs": [
        {
          "output_type": "stream",
          "name": "stdout",
          "text": [
            "Epoch 1/500\n",
            "313/313 [==============================] - 14s 42ms/step - loss: 4.2876 - accuracy: 0.0518 - val_loss: 3.9514 - val_accuracy: 0.0963\n",
            "Epoch 2/500\n",
            "313/313 [==============================] - 13s 43ms/step - loss: 3.8934 - accuracy: 0.1019 - val_loss: 3.7674 - val_accuracy: 0.1175\n",
            "Epoch 3/500\n",
            "313/313 [==============================] - 14s 43ms/step - loss: 3.7392 - accuracy: 0.1260 - val_loss: 3.6567 - val_accuracy: 0.1466\n",
            "Epoch 4/500\n",
            "313/313 [==============================] - 13s 41ms/step - loss: 3.6338 - accuracy: 0.1447 - val_loss: 3.6453 - val_accuracy: 0.1535\n",
            "Epoch 5/500\n",
            "313/313 [==============================] - 13s 42ms/step - loss: 3.5595 - accuracy: 0.1608 - val_loss: 3.5830 - val_accuracy: 0.1592\n",
            "Epoch 6/500\n",
            "313/313 [==============================] - 13s 41ms/step - loss: 3.5003 - accuracy: 0.1717 - val_loss: 3.4544 - val_accuracy: 0.1895\n",
            "Epoch 7/500\n",
            "313/313 [==============================] - 13s 41ms/step - loss: 3.4433 - accuracy: 0.1822 - val_loss: 3.4449 - val_accuracy: 0.1872\n",
            "Epoch 8/500\n",
            "313/313 [==============================] - 13s 43ms/step - loss: 3.4099 - accuracy: 0.1858 - val_loss: 3.6159 - val_accuracy: 0.1575\n",
            "Epoch 9/500\n",
            "313/313 [==============================] - 13s 42ms/step - loss: 3.3760 - accuracy: 0.1935 - val_loss: 3.4782 - val_accuracy: 0.1851\n",
            "Epoch 10/500\n",
            "313/313 [==============================] - 14s 43ms/step - loss: 3.3379 - accuracy: 0.2008 - val_loss: 3.4851 - val_accuracy: 0.1793\n",
            "Epoch 11/500\n",
            "313/313 [==============================] - 13s 41ms/step - loss: 3.3067 - accuracy: 0.2048 - val_loss: 3.4880 - val_accuracy: 0.1740\n",
            "Epoch 12/500\n",
            "313/313 [==============================] - 13s 41ms/step - loss: 3.2784 - accuracy: 0.2086 - val_loss: 3.4991 - val_accuracy: 0.1802\n",
            "Epoch 13/500\n",
            "313/313 [==============================] - 13s 42ms/step - loss: 3.2580 - accuracy: 0.2169 - val_loss: 3.3901 - val_accuracy: 0.2020\n",
            "Epoch 14/500\n",
            "313/313 [==============================] - 13s 41ms/step - loss: 3.2376 - accuracy: 0.2191 - val_loss: 3.5730 - val_accuracy: 0.1761\n",
            "Epoch 15/500\n",
            "313/313 [==============================] - 15s 48ms/step - loss: 3.2282 - accuracy: 0.2182 - val_loss: 3.4173 - val_accuracy: 0.1976\n",
            "Epoch 16/500\n",
            "313/313 [==============================] - 13s 41ms/step - loss: 3.2053 - accuracy: 0.2239 - val_loss: 3.4909 - val_accuracy: 0.1804\n",
            "Epoch 17/500\n",
            "313/313 [==============================] - 13s 42ms/step - loss: 3.1870 - accuracy: 0.2274 - val_loss: 3.4548 - val_accuracy: 0.2041\n",
            "Epoch 18/500\n",
            "313/313 [==============================] - 13s 43ms/step - loss: 3.1785 - accuracy: 0.2304 - val_loss: 3.4208 - val_accuracy: 0.1977\n",
            "Epoch 19/500\n",
            "313/313 [==============================] - 13s 42ms/step - loss: 3.1674 - accuracy: 0.2310 - val_loss: 3.4424 - val_accuracy: 0.1957\n",
            "Epoch 20/500\n",
            "313/313 [==============================] - 13s 41ms/step - loss: 3.1560 - accuracy: 0.2333 - val_loss: 3.4404 - val_accuracy: 0.1917\n",
            "Epoch 21/500\n",
            "313/313 [==============================] - 13s 42ms/step - loss: 3.1531 - accuracy: 0.2365 - val_loss: 3.4633 - val_accuracy: 0.1935\n",
            "Epoch 22/500\n",
            "313/313 [==============================] - 14s 44ms/step - loss: 3.1323 - accuracy: 0.2379 - val_loss: 3.3976 - val_accuracy: 0.2037\n",
            "Epoch 23/500\n",
            "313/313 [==============================] - 14s 43ms/step - loss: 3.1215 - accuracy: 0.2409 - val_loss: 3.4199 - val_accuracy: 0.2029\n",
            "Epoch 24/500\n",
            "313/313 [==============================] - 14s 45ms/step - loss: 3.1055 - accuracy: 0.2442 - val_loss: 3.4510 - val_accuracy: 0.1938\n",
            "Epoch 25/500\n",
            "313/313 [==============================] - 13s 42ms/step - loss: 3.1204 - accuracy: 0.2423 - val_loss: 3.4548 - val_accuracy: 0.1980\n",
            "Epoch 26/500\n",
            "313/313 [==============================] - 15s 47ms/step - loss: 3.0969 - accuracy: 0.2477 - val_loss: 3.4176 - val_accuracy: 0.2082\n",
            "Epoch 27/500\n",
            "313/313 [==============================] - 14s 43ms/step - loss: 3.0945 - accuracy: 0.2472 - val_loss: 3.5705 - val_accuracy: 0.1864\n",
            "Epoch 28/500\n",
            "313/313 [==============================] - 13s 43ms/step - loss: 3.0885 - accuracy: 0.2476 - val_loss: 3.5023 - val_accuracy: 0.1963\n",
            "Epoch 29/500\n",
            "313/313 [==============================] - 13s 41ms/step - loss: 3.0847 - accuracy: 0.2494 - val_loss: 3.5061 - val_accuracy: 0.1960\n",
            "Epoch 30/500\n",
            "313/313 [==============================] - 13s 41ms/step - loss: 3.0702 - accuracy: 0.2485 - val_loss: 3.4803 - val_accuracy: 0.1961\n",
            "Epoch 31/500\n",
            "313/313 [==============================] - 13s 41ms/step - loss: 3.0714 - accuracy: 0.2533 - val_loss: 3.5245 - val_accuracy: 0.1855\n",
            "Epoch 32/500\n",
            "313/313 [==============================] - 13s 41ms/step - loss: 3.0771 - accuracy: 0.2493 - val_loss: 3.5915 - val_accuracy: 0.1719\n",
            "Epoch 33/500\n",
            "313/313 [==============================] - 13s 41ms/step - loss: 3.0723 - accuracy: 0.2517 - val_loss: 3.5292 - val_accuracy: 0.1886\n",
            "Epoch 34/500\n",
            "313/313 [==============================] - 13s 41ms/step - loss: 3.0653 - accuracy: 0.2522 - val_loss: 3.5920 - val_accuracy: 0.1773\n",
            "Epoch 35/500\n",
            "313/313 [==============================] - 13s 41ms/step - loss: 3.0518 - accuracy: 0.2537 - val_loss: 3.5281 - val_accuracy: 0.1909\n",
            "Epoch 36/500\n",
            "313/313 [==============================] - 14s 44ms/step - loss: 3.0551 - accuracy: 0.2578 - val_loss: 3.5136 - val_accuracy: 0.1940\n",
            "Epoch 37/500\n",
            "313/313 [==============================] - 13s 41ms/step - loss: 3.0488 - accuracy: 0.2582 - val_loss: 3.5676 - val_accuracy: 0.1957\n",
            "Epoch 38/500\n",
            "313/313 [==============================] - 14s 44ms/step - loss: 3.0458 - accuracy: 0.2580 - val_loss: 3.5376 - val_accuracy: 0.1967\n",
            "Epoch 39/500\n",
            "313/313 [==============================] - 14s 45ms/step - loss: 3.0395 - accuracy: 0.2613 - val_loss: 3.5292 - val_accuracy: 0.2004\n",
            "Epoch 40/500\n",
            "313/313 [==============================] - 14s 45ms/step - loss: 3.0339 - accuracy: 0.2617 - val_loss: 3.5475 - val_accuracy: 0.1897\n",
            "Epoch 41/500\n",
            "313/313 [==============================] - 13s 42ms/step - loss: 3.0326 - accuracy: 0.2603 - val_loss: 3.6145 - val_accuracy: 0.1902\n",
            "Epoch 42/500\n",
            "313/313 [==============================] - 13s 41ms/step - loss: 3.0408 - accuracy: 0.2590 - val_loss: 3.7610 - val_accuracy: 0.1906\n",
            "Epoch 43/500\n",
            "313/313 [==============================] - 13s 41ms/step - loss: 3.0434 - accuracy: 0.2579 - val_loss: 3.7722 - val_accuracy: 0.1795\n",
            "Epoch 44/500\n",
            "313/313 [==============================] - 13s 42ms/step - loss: 3.0379 - accuracy: 0.2593 - val_loss: 3.6411 - val_accuracy: 0.1756\n",
            "Epoch 45/500\n",
            "313/313 [==============================] - 13s 41ms/step - loss: 3.0253 - accuracy: 0.2645 - val_loss: 3.5791 - val_accuracy: 0.1934\n",
            "Epoch 46/500\n",
            "313/313 [==============================] - 13s 41ms/step - loss: 3.0293 - accuracy: 0.2639 - val_loss: 3.6440 - val_accuracy: 0.1872\n",
            "Epoch 47/500\n",
            "313/313 [==============================] - 13s 41ms/step - loss: 3.0308 - accuracy: 0.2650 - val_loss: 3.5931 - val_accuracy: 0.1881\n",
            "Epoch 48/500\n",
            "313/313 [==============================] - 13s 42ms/step - loss: 3.0359 - accuracy: 0.2618 - val_loss: 3.7054 - val_accuracy: 0.1692\n",
            "Epoch 49/500\n",
            "313/313 [==============================] - 13s 41ms/step - loss: 3.0286 - accuracy: 0.2618 - val_loss: 3.6338 - val_accuracy: 0.1804\n",
            "Epoch 50/500\n",
            "313/313 [==============================] - 13s 43ms/step - loss: 3.0330 - accuracy: 0.2630 - val_loss: 3.6068 - val_accuracy: 0.1890\n",
            "Epoch 51/500\n",
            "313/313 [==============================] - 13s 41ms/step - loss: 3.0272 - accuracy: 0.2668 - val_loss: 3.6848 - val_accuracy: 0.1955\n",
            "Epoch 52/500\n",
            "313/313 [==============================] - 13s 42ms/step - loss: 3.0200 - accuracy: 0.2684 - val_loss: 3.7865 - val_accuracy: 0.1749\n",
            "Epoch 53/500\n",
            "313/313 [==============================] - 13s 43ms/step - loss: 3.0190 - accuracy: 0.2666 - val_loss: 3.5952 - val_accuracy: 0.2029\n",
            "Epoch 54/500\n",
            "313/313 [==============================] - 13s 42ms/step - loss: 3.0192 - accuracy: 0.2663 - val_loss: 3.6656 - val_accuracy: 0.1980\n",
            "Epoch 55/500\n",
            "313/313 [==============================] - 13s 41ms/step - loss: 3.0388 - accuracy: 0.2656 - val_loss: 3.6010 - val_accuracy: 0.1954\n",
            "Epoch 56/500\n",
            "313/313 [==============================] - 13s 41ms/step - loss: 3.0207 - accuracy: 0.2657 - val_loss: 3.7345 - val_accuracy: 0.1848\n",
            "Epoch 57/500\n",
            "313/313 [==============================] - 13s 41ms/step - loss: 3.0272 - accuracy: 0.2645 - val_loss: 3.7640 - val_accuracy: 0.1911\n",
            "Epoch 58/500\n",
            "313/313 [==============================] - 13s 43ms/step - loss: 3.0324 - accuracy: 0.2646 - val_loss: 3.6789 - val_accuracy: 0.1894\n",
            "Epoch 59/500\n",
            "313/313 [==============================] - 14s 45ms/step - loss: 3.0201 - accuracy: 0.2673 - val_loss: 3.5796 - val_accuracy: 0.1903\n",
            "Epoch 60/500\n",
            "313/313 [==============================] - 14s 45ms/step - loss: 3.0218 - accuracy: 0.2686 - val_loss: 3.7687 - val_accuracy: 0.1871\n",
            "Epoch 61/500\n",
            "313/313 [==============================] - 14s 44ms/step - loss: 3.0305 - accuracy: 0.2693 - val_loss: 3.6916 - val_accuracy: 0.1826\n",
            "Epoch 62/500\n",
            "313/313 [==============================] - 14s 45ms/step - loss: 3.0354 - accuracy: 0.2635 - val_loss: 3.7419 - val_accuracy: 0.1865\n",
            "Epoch 63/500\n",
            "313/313 [==============================] - 14s 46ms/step - loss: 3.0176 - accuracy: 0.2681 - val_loss: 3.7422 - val_accuracy: 0.1943\n",
            "Epoch 64/500\n",
            "313/313 [==============================] - 14s 45ms/step - loss: 3.0302 - accuracy: 0.2684 - val_loss: 3.6917 - val_accuracy: 0.1848\n",
            "Epoch 65/500\n",
            "313/313 [==============================] - 14s 45ms/step - loss: 3.0265 - accuracy: 0.2675 - val_loss: 3.7017 - val_accuracy: 0.1863\n",
            "Epoch 66/500\n",
            "313/313 [==============================] - 14s 45ms/step - loss: 3.0278 - accuracy: 0.2679 - val_loss: 3.7838 - val_accuracy: 0.1773\n",
            "Epoch 67/500\n",
            "313/313 [==============================] - 14s 45ms/step - loss: 3.0217 - accuracy: 0.2694 - val_loss: 3.8597 - val_accuracy: 0.1853\n",
            "Epoch 68/500\n",
            "313/313 [==============================] - 14s 44ms/step - loss: 3.0220 - accuracy: 0.2684 - val_loss: 3.7804 - val_accuracy: 0.1804\n",
            "Epoch 69/500\n",
            "313/313 [==============================] - 14s 45ms/step - loss: 3.0300 - accuracy: 0.2700 - val_loss: 3.8181 - val_accuracy: 0.1680\n",
            "Epoch 70/500\n",
            "313/313 [==============================] - 13s 43ms/step - loss: 3.0321 - accuracy: 0.2659 - val_loss: 3.8562 - val_accuracy: 0.1892\n",
            "Epoch 71/500\n",
            "313/313 [==============================] - 14s 44ms/step - loss: 3.0236 - accuracy: 0.2678 - val_loss: 3.9772 - val_accuracy: 0.1636\n",
            "Epoch 72/500\n",
            "313/313 [==============================] - 14s 45ms/step - loss: 3.0433 - accuracy: 0.2667 - val_loss: 3.9728 - val_accuracy: 0.1867\n",
            "Epoch 73/500\n",
            "313/313 [==============================] - 14s 46ms/step - loss: 3.0366 - accuracy: 0.2682 - val_loss: 4.0472 - val_accuracy: 0.1668\n",
            "Epoch 74/500\n",
            "313/313 [==============================] - 14s 46ms/step - loss: 3.0328 - accuracy: 0.2701 - val_loss: 3.8672 - val_accuracy: 0.1719\n",
            "Epoch 75/500\n",
            "313/313 [==============================] - 14s 46ms/step - loss: 3.0375 - accuracy: 0.2695 - val_loss: 3.8696 - val_accuracy: 0.1808\n",
            "Epoch 76/500\n",
            "313/313 [==============================] - 14s 45ms/step - loss: 3.0401 - accuracy: 0.2684 - val_loss: 4.1086 - val_accuracy: 0.1753\n",
            "Epoch 77/500\n",
            "313/313 [==============================] - 14s 46ms/step - loss: 3.0274 - accuracy: 0.2713 - val_loss: 3.8447 - val_accuracy: 0.1961\n",
            "Epoch 78/500\n",
            "313/313 [==============================] - 14s 45ms/step - loss: 3.0533 - accuracy: 0.2661 - val_loss: 3.7948 - val_accuracy: 0.1831\n",
            "Epoch 79/500\n",
            "313/313 [==============================] - 14s 46ms/step - loss: 3.0420 - accuracy: 0.2659 - val_loss: 3.8620 - val_accuracy: 0.1656\n",
            "Epoch 80/500\n",
            "313/313 [==============================] - 14s 46ms/step - loss: 3.0353 - accuracy: 0.2716 - val_loss: 3.8096 - val_accuracy: 0.1754\n",
            "Epoch 81/500\n",
            "313/313 [==============================] - 14s 43ms/step - loss: 3.0508 - accuracy: 0.2678 - val_loss: 3.8216 - val_accuracy: 0.1683\n",
            "Epoch 82/500\n",
            "313/313 [==============================] - 13s 41ms/step - loss: 3.0471 - accuracy: 0.2694 - val_loss: 3.9368 - val_accuracy: 0.1791\n",
            "Epoch 83/500\n",
            "313/313 [==============================] - 13s 41ms/step - loss: 3.0537 - accuracy: 0.2690 - val_loss: 3.8912 - val_accuracy: 0.1847\n",
            "Epoch 84/500\n",
            "313/313 [==============================] - 13s 41ms/step - loss: 3.0371 - accuracy: 0.2698 - val_loss: 3.7891 - val_accuracy: 0.1738\n",
            "Epoch 85/500\n",
            "313/313 [==============================] - 13s 41ms/step - loss: 3.0376 - accuracy: 0.2703 - val_loss: 3.8530 - val_accuracy: 0.1815\n",
            "Epoch 86/500\n",
            "313/313 [==============================] - 13s 41ms/step - loss: 3.0396 - accuracy: 0.2704 - val_loss: 3.8851 - val_accuracy: 0.1852\n",
            "Epoch 87/500\n",
            "313/313 [==============================] - 13s 41ms/step - loss: 3.0386 - accuracy: 0.2675 - val_loss: 3.8453 - val_accuracy: 0.1827\n",
            "Epoch 88/500\n",
            "313/313 [==============================] - 13s 41ms/step - loss: 3.0553 - accuracy: 0.2682 - val_loss: 4.1524 - val_accuracy: 0.1600\n",
            "Epoch 89/500\n",
            "313/313 [==============================] - 13s 41ms/step - loss: 3.0533 - accuracy: 0.2668 - val_loss: 3.9732 - val_accuracy: 0.1751\n",
            "Epoch 90/500\n",
            "313/313 [==============================] - 13s 41ms/step - loss: 3.0609 - accuracy: 0.2664 - val_loss: 3.9571 - val_accuracy: 0.1857\n",
            "Epoch 91/500\n",
            "313/313 [==============================] - 13s 41ms/step - loss: 3.0500 - accuracy: 0.2697 - val_loss: 3.9524 - val_accuracy: 0.1701\n",
            "Epoch 92/500\n",
            "313/313 [==============================] - 13s 41ms/step - loss: 3.0460 - accuracy: 0.2710 - val_loss: 3.8695 - val_accuracy: 0.1932\n",
            "Epoch 93/500\n",
            "313/313 [==============================] - 13s 41ms/step - loss: 3.0475 - accuracy: 0.2686 - val_loss: 4.3553 - val_accuracy: 0.1711\n",
            "Epoch 94/500\n",
            "313/313 [==============================] - 13s 41ms/step - loss: 3.0514 - accuracy: 0.2645 - val_loss: 4.1925 - val_accuracy: 0.1720\n",
            "Epoch 95/500\n",
            "313/313 [==============================] - 13s 41ms/step - loss: 3.0573 - accuracy: 0.2690 - val_loss: 3.9545 - val_accuracy: 0.1904\n",
            "Epoch 96/500\n",
            "313/313 [==============================] - 13s 41ms/step - loss: 3.0456 - accuracy: 0.2684 - val_loss: 3.9302 - val_accuracy: 0.1734\n",
            "Epoch 97/500\n",
            "313/313 [==============================] - 13s 41ms/step - loss: 3.0654 - accuracy: 0.2674 - val_loss: 4.1058 - val_accuracy: 0.1777\n",
            "Epoch 98/500\n",
            "313/313 [==============================] - 13s 41ms/step - loss: 3.0696 - accuracy: 0.2679 - val_loss: 3.9154 - val_accuracy: 0.1745\n",
            "Epoch 99/500\n",
            "313/313 [==============================] - 13s 41ms/step - loss: 3.0639 - accuracy: 0.2672 - val_loss: 4.0431 - val_accuracy: 0.1769\n",
            "Epoch 100/500\n",
            "313/313 [==============================] - 13s 41ms/step - loss: 3.0613 - accuracy: 0.2695 - val_loss: 4.0819 - val_accuracy: 0.1675\n",
            "Epoch 101/500\n",
            "313/313 [==============================] - 13s 41ms/step - loss: 3.0631 - accuracy: 0.2689 - val_loss: 4.0131 - val_accuracy: 0.1719\n",
            "Epoch 102/500\n",
            "313/313 [==============================] - 13s 41ms/step - loss: 3.0679 - accuracy: 0.2691 - val_loss: 4.0171 - val_accuracy: 0.1806\n",
            "Epoch 103/500\n",
            "313/313 [==============================] - 13s 41ms/step - loss: 3.0728 - accuracy: 0.2689 - val_loss: 3.9133 - val_accuracy: 0.1811\n",
            "Epoch 104/500\n",
            "313/313 [==============================] - 13s 41ms/step - loss: 3.0752 - accuracy: 0.2668 - val_loss: 4.1497 - val_accuracy: 0.1630\n",
            "Epoch 105/500\n",
            "313/313 [==============================] - 13s 41ms/step - loss: 3.0710 - accuracy: 0.2666 - val_loss: 4.2042 - val_accuracy: 0.1700\n",
            "Epoch 106/500\n",
            "313/313 [==============================] - 13s 41ms/step - loss: 3.0723 - accuracy: 0.2679 - val_loss: 4.0476 - val_accuracy: 0.1529\n",
            "Epoch 107/500\n",
            "313/313 [==============================] - 13s 41ms/step - loss: 3.0757 - accuracy: 0.2665 - val_loss: 4.1136 - val_accuracy: 0.1713\n",
            "Epoch 108/500\n",
            "313/313 [==============================] - 13s 41ms/step - loss: 3.0713 - accuracy: 0.2705 - val_loss: 4.0782 - val_accuracy: 0.1701\n",
            "Epoch 109/500\n",
            "313/313 [==============================] - 13s 41ms/step - loss: 3.0745 - accuracy: 0.2666 - val_loss: 4.0618 - val_accuracy: 0.1751\n",
            "Epoch 110/500\n",
            "313/313 [==============================] - 13s 41ms/step - loss: 3.0690 - accuracy: 0.2702 - val_loss: 4.1578 - val_accuracy: 0.1569\n",
            "Epoch 111/500\n",
            "313/313 [==============================] - 13s 41ms/step - loss: 3.0830 - accuracy: 0.2688 - val_loss: 4.0325 - val_accuracy: 0.1811\n",
            "Epoch 112/500\n",
            "313/313 [==============================] - 13s 41ms/step - loss: 3.0948 - accuracy: 0.2645 - val_loss: 3.9627 - val_accuracy: 0.1771\n",
            "Epoch 113/500\n",
            "313/313 [==============================] - 13s 41ms/step - loss: 3.0914 - accuracy: 0.2671 - val_loss: 3.9768 - val_accuracy: 0.1665\n"
          ]
        }
      ]
    },
    {
      "cell_type": "code",
      "source": [
        "score=model.evaluate(x_test,y_test,verbose=0)\n",
        "print('Test_loss',score[0])\n",
        "print('Test accuracy',score[1])\n",
        "plt.plot(history.history['accuracy'])\n",
        "plt.plot(history.history['val_accuracy'])\n",
        "plt.title('Model accuracy')\n",
        "plt.ylabel('accuracy')\n",
        "plt.xlabel('epochs')\n",
        "plt.legend(['train','validation'])\n",
        "plt.show()"
      ],
      "metadata": {
        "colab": {
          "base_uri": "https://localhost:8080/",
          "height": 330
        },
        "id": "1cqOPmV4ydOS",
        "outputId": "d81a90dd-c776-4f50-ba1d-4cb0ec0785e0"
      },
      "execution_count": null,
      "outputs": [
        {
          "output_type": "stream",
          "name": "stdout",
          "text": [
            "Test_loss 3.9104199409484863\n",
            "Test accuracy 0.164900004863739\n"
          ]
        },
        {
          "output_type": "display_data",
          "data": {
            "text/plain": [
              "<Figure size 432x288 with 1 Axes>"
            ],
            "image/png": "[encoded data removed]"
          },
          "metadata": {
            "needs_background": "light"
          }
        }
      ]
    }
  ]
}